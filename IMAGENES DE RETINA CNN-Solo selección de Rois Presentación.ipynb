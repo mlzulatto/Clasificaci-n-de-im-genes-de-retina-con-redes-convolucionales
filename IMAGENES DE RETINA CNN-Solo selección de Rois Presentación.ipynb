{
 "cells": [
  {
   "cell_type": "code",
   "execution_count": 1,
   "metadata": {},
   "outputs": [],
   "source": [
    "import cv2\n",
    "import tensorflow\n",
    "from tensorflow import keras\n",
    "from tensorflow.keras import layers\n",
    "import matplotlib.pyplot as plt\n",
    "import os\n",
    "import random\n",
    "import numpy as np\n",
    "import sklearn\n"
   ]
  },
  {
   "cell_type": "markdown",
   "metadata": {},
   "source": [
    "## Carga de archivo de Imagen"
   ]
  },
  {
   "cell_type": "code",
   "execution_count": 2,
   "metadata": {},
   "outputs": [
    {
     "name": "stdout",
     "output_type": "stream",
     "text": [
      "(1024, 1024)\n",
      "(1024, 1024)\n",
      "(1024, 1024)\n",
      "(1024, 1024)\n"
     ]
    }
   ],
   "source": [
    "R_1 = cv2.imread('ImagenRetina1.tif', cv2.IMREAD_GRAYSCALE)\n",
    "R_2 = cv2.imread('ImagenRetina2.tif', cv2.IMREAD_GRAYSCALE)\n",
    "R_3 = cv2.imread('ImagenRetina3.tif', cv2.IMREAD_GRAYSCALE)\n",
    "R_4 = cv2.imread('ImagenRetina4.tif', cv2.IMREAD_GRAYSCALE)\n",
    "\n",
    "print(R_1.shape)\n",
    "print(R_2.shape)\n",
    "print(R_3.shape)\n",
    "print(R_4.shape)\n"
   ]
  },
  {
   "cell_type": "markdown",
   "metadata": {},
   "source": [
    "## Selección de ROIS"
   ]
  },
  {
   "cell_type": "code",
   "execution_count": 3,
   "metadata": {},
   "outputs": [],
   "source": [
    "nro_recorte = 0\n",
    "tamaño_imagen_medio = 7\n",
    "#tamaño_recorte = tamaño_imagen_medio*2\n",
    "cant_rois_1= 12\n",
    "cant_rois = 4\n",
    "#cant_recortes_por_roi = 50\n",
    "marco = tamaño_imagen_medio + 1"
   ]
  },
  {
   "cell_type": "code",
   "execution_count": 4,
   "metadata": {},
   "outputs": [
    {
     "name": "stdout",
     "output_type": "stream",
     "text": [
      "Muestra de (columna, fila, anchocol, anchofila), de ROI de capa gruesa (25, 14, 109, 57)\n",
      "Muestra de (columna, fila, anchocol, anchofila), de ROI de capa gruesa (108, 62, 96, 53)\n",
      "Muestra de (columna, fila, anchocol, anchofila), de ROI de capa gruesa (161, 108, 118, 50)\n",
      "Muestra de (columna, fila, anchocol, anchofila), de ROI de capa gruesa (220, 151, 108, 49)\n",
      "Muestra de (columna, fila, anchocol, anchofila), de ROI de capa gruesa (262, 189, 116, 50)\n",
      "Muestra de (columna, fila, anchocol, anchofila), de ROI de capa gruesa (311, 220, 106, 53)\n",
      "Muestra de (columna, fila, anchocol, anchofila), de ROI de capa gruesa (371, 259, 110, 61)\n",
      "Muestra de (columna, fila, anchocol, anchofila), de ROI de capa gruesa (440, 307, 96, 65)\n",
      "Muestra de (columna, fila, anchocol, anchofila), de ROI de capa gruesa (486, 348, 105, 61)\n",
      "Muestra de (columna, fila, anchocol, anchofila), de ROI de capa gruesa (543, 395, 102, 78)\n",
      "Muestra de (columna, fila, anchocol, anchofila), de ROI de capa gruesa (604, 447, 98, 97)\n",
      "Muestra de (columna, fila, anchocol, anchofila), de ROI de capa gruesa (692, 537, 100, 90)\n",
      "0\n"
     ]
    }
   ],
   "source": [
    "#ImagenRetina1\n",
    "showCrosshair = False\n",
    "fromCenter = False\n",
    "\n",
    "#Obtencion ROIS capa gruesa\n",
    "suma = 0\n",
    "lista_rois_gruesa=[] #inicio lista vacia\n",
    "\n",
    "for _ in range(cant_rois_1):\n",
    "    roi1_CG = cv2.selectROI(\"delimite la ROI1 CAPA GRUESA con mouse +ent+tecla\", R_1, fromCenter, showCrosshair) #es un vector\n",
    "    cv2.waitKey() #espera pulsado de tecla. tengo que seleccionar sector, luego enter, y luego salgo con tecla\n",
    "    imagen1_roi_G=R_1[roi1_CG[1]:(roi1_CG[1]+roi1_CG[3]),roi1_CG[0]:(roi1_CG[0]+roi1_CG[2])] #es una matriz\n",
    "    print('Muestra de (columna, fila, anchocol, anchofila), de ROI de capa gruesa', roi1_CG)\n",
    "    #print('Muestra de pixeles del ROI' 'de capa gruesa', imagen1_roi_G)\n",
    "    cv2.destroyAllWindows()\n",
    "    lista_rois_gruesa.append(imagen1_roi_G)\n",
    "\n",
    "for roi in lista_rois_gruesa:\n",
    "#    for _ in range(cant_recortes_por_roi):\n",
    "            for fila in range(marco, roi.shape[0]-marco, tamaño_imagen_medio):\n",
    "                for columna in range(marco, roi.shape[1]-marco, tamaño_imagen_medio):\n",
    "                    recorte = roi[(fila-tamaño_imagen_medio):(fila+tamaño_imagen_medio+1), (columna-tamaño_imagen_medio):(columna+tamaño_imagen_medio+1)] #el +1 es porque el extremo derecho es exclusivo\n",
    "                    #print(recorte.shape)\n",
    "                    cv2.imwrite(\"C:/Users/toto_/PYTHON/CapaG/G\" + str(nro_recorte) + \".png\", recorte)\n",
    "                    #cv2.imwrite(\"C:/Users/Usuario/Desktop/Micaela/TP final/CapaG/G\" + str(nro_recorte) + \".png\", recorte)\n",
    "                    nro_recorte += 1"
   ]
  },
  {
   "cell_type": "code",
   "execution_count": 5,
   "metadata": {},
   "outputs": [
    {
     "name": "stdout",
     "output_type": "stream",
     "text": [
      "Muestra de (columna, fila, anchocol, anchofila), de ROI de capa gruesa (13, 431, 283, 150)\n",
      "Muestra de (columna, fila, anchocol, anchofila), de ROI de capa gruesa (198, 360, 319, 178)\n",
      "Muestra de (columna, fila, anchocol, anchofila), de ROI de capa gruesa (454, 310, 348, 136)\n",
      "Muestra de (columna, fila, anchocol, anchofila), de ROI de capa gruesa (605, 241, 407, 143)\n",
      "4\n"
     ]
    }
   ],
   "source": [
    "#ImagenRetina2\n",
    "showCrosshair = False\n",
    "fromCenter = False\n",
    "\n",
    "#Obtencion ROIS capa gruesa\n",
    "\n",
    "lista_rois_gruesa=[] #inicio lista vacia\n",
    "\n",
    "for _ in range(cant_rois):\n",
    "    roi2_CG = cv2.selectROI(\"delimite la ROI2 CAPA GRUESA con mouse +ent+tecla\", R_2, fromCenter, showCrosshair) #es un vector\n",
    "    cv2.waitKey() #espera pulsado de tecla. tengo que seleccionar sector, luego enter, y luego salgo con tecla\n",
    "    imagen2_roi_G=R_2[roi2_CG[1]:(roi2_CG[1]+roi2_CG[3]),roi2_CG[0]:(roi2_CG[0]+roi2_CG[2])] #es una matriz\n",
    "    print('Muestra de (columna, fila, anchocol, anchofila), de ROI de capa gruesa', roi2_CG)\n",
    "    #print('Muestra de pixeles del ROI' , [i+1] , 'de capa gruesa', imagen2_roi_G)\n",
    "    cv2.destroyAllWindows()\n",
    "    lista_rois_gruesa.append(imagen2_roi_G)\n",
    "\n",
    "print(len(lista_rois_gruesa)) #para verificar que al final del for tengo 3 elementos en la lista  \n",
    "for roi in lista_rois_gruesa:\n",
    "#    for _ in range(cant_recortes_por_roi):\n",
    "            for fila in range(marco, roi.shape[0]-marco, tamaño_imagen_medio):\n",
    "                for columna in range(marco, roi.shape[1]-marco, tamaño_imagen_medio):\n",
    "                    recorte = roi[(fila-tamaño_imagen_medio):(fila+tamaño_imagen_medio+1), (columna-tamaño_imagen_medio):(columna+tamaño_imagen_medio+1)] #el +1 es porque el extremo derecho es exclusivo\n",
    "                    #print(recorte.shape)\n",
    "                    cv2.imwrite(\"C:/Users/toto_/PYTHON/CapaG/G\" + str(nro_recorte) + \".png\", recorte)\n",
    "                    #cv2.imwrite(\"C:/Users/Usuario/Desktop/Micaela/TP final/CapaG/G\" + str(nro_recorte) + \".png\", recorte)\n",
    "                    nro_recorte += 1"
   ]
  },
  {
   "cell_type": "code",
   "execution_count": 6,
   "metadata": {},
   "outputs": [
    {
     "name": "stdout",
     "output_type": "stream",
     "text": [
      "Muestra de (columna, fila, anchocol, anchofila), de ROI de capa gruesa (8, 355, 457, 184)\n",
      "Muestra de (columna, fila, anchocol, anchofila), de ROI de capa gruesa (286, 381, 309, 188)\n",
      "Muestra de (columna, fila, anchocol, anchofila), de ROI de capa gruesa (558, 350, 260, 205)\n",
      "Muestra de (columna, fila, anchocol, anchofila), de ROI de capa gruesa (786, 353, 238, 163)\n",
      "4\n"
     ]
    }
   ],
   "source": [
    "#ImagenRetina3\n",
    "showCrosshair = False\n",
    "fromCenter = False\n",
    "\n",
    "#Obtencion ROIS capa gruesa\n",
    "\n",
    "lista_rois_gruesa=[] #inicio lista vacia\n",
    "\n",
    "for _ in range(cant_rois):\n",
    "    roi3_CG = cv2.selectROI(\"delimite la ROI3 CAPA GRUESA con mouse +ent+tecla\", R_3, fromCenter, showCrosshair) #es un vector\n",
    "    cv2.waitKey() #espera pulsado de tecla. tengo que seleccionar sector, luego enter, y luego salgo con tecla\n",
    "    imagen3_roi_G=R_3[roi3_CG[1]:(roi3_CG[1]+roi3_CG[3]),roi3_CG[0]:(roi3_CG[0]+roi3_CG[2])] #es una matriz\n",
    "    print('Muestra de (columna, fila, anchocol, anchofila), de ROI de capa gruesa', roi3_CG)\n",
    "    #print('Muestra de pixeles del ROI' , [i+1] , 'de capa gruesa', imagen3_roi_G)\n",
    "    cv2.destroyAllWindows()\n",
    "    lista_rois_gruesa.append(imagen3_roi_G)\n",
    "\n",
    "print(len(lista_rois_gruesa)) #para verificar que al final del for tengo 3 elementos en la lista\n",
    "for roi in lista_rois_gruesa:\n",
    "#    for _ in range(cant_recortes_por_roi):\n",
    "            for fila in range(marco, roi.shape[0]-marco, tamaño_imagen_medio):\n",
    "                for columna in range(marco, roi.shape[1]-marco, tamaño_imagen_medio):\n",
    "                    recorte = roi[(fila-tamaño_imagen_medio):(fila+tamaño_imagen_medio+1), (columna-tamaño_imagen_medio):(columna+tamaño_imagen_medio+1)] #el +1 es porque el extremo derecho es exclusivo\n",
    "                    #print(recorte.shape)\n",
    "                    cv2.imwrite(\"C:/Users/toto_/PYTHON/CapaG/G\" + str(nro_recorte) + \".png\", recorte)\n",
    "                    #cv2.imwrite(\"C:/Users/Usuario/Desktop/Micaela/TP final/CapaG/G\" + str(nro_recorte) + \".png\", recorte)\n",
    "                    nro_recorte += 1"
   ]
  },
  {
   "cell_type": "code",
   "execution_count": 7,
   "metadata": {},
   "outputs": [
    {
     "name": "stdout",
     "output_type": "stream",
     "text": [
      "Muestra de (columna, fila, anchocol, anchofila), de ROI de capa gruesa (5, 160, 274, 106)\n",
      "Muestra de (columna, fila, anchocol, anchofila), de ROI de capa gruesa (261, 142, 236, 108)\n",
      "Muestra de (columna, fila, anchocol, anchofila), de ROI de capa gruesa (464, 120, 320, 128)\n",
      "Muestra de (columna, fila, anchocol, anchofila), de ROI de capa gruesa (801, 145, 223, 156)\n",
      "4\n"
     ]
    }
   ],
   "source": [
    "#ImagenRetina4\n",
    "showCrosshair = False\n",
    "fromCenter = False\n",
    "\n",
    "#Obtencion ROIS capa gruesa\n",
    "\n",
    "lista_rois_gruesa=[] #inicio lista vacia\n",
    "\n",
    "for _ in range(cant_rois):\n",
    "    roi4_CG = cv2.selectROI(\"delimite la ROI4 CAPA GRUESA con mouse +ent+tecla\", R_4, fromCenter, showCrosshair) #es un vector\n",
    "    cv2.waitKey() #espera pulsado de tecla. tengo que seleccionar sector, luego enter, y luego salgo con tecla\n",
    "    imagen4_roi_G=R_4[roi4_CG[1]:(roi4_CG[1]+roi4_CG[3]),roi4_CG[0]:(roi4_CG[0]+roi4_CG[2])] #es una matriz\n",
    "    print('Muestra de (columna, fila, anchocol, anchofila), de ROI de capa gruesa', roi4_CG)\n",
    "    #print('Muestra de pixeles del ROI' , [i+1] , 'de capa gruesa', imagen3_roi_G)\n",
    "    cv2.destroyAllWindows()\n",
    "    lista_rois_gruesa.append(imagen4_roi_G)\n",
    "\n",
    "print(len(lista_rois_gruesa)) #para verificar que al final del for tengo 3 elementos en la lista\n",
    "for roi in lista_rois_gruesa:\n",
    "#    for _ in range(cant_recortes_por_roi):\n",
    "            for fila in range(marco, roi.shape[0]-marco, tamaño_imagen_medio):\n",
    "                for columna in range(marco, roi.shape[1]-marco, tamaño_imagen_medio):\n",
    "                    recorte = roi[(fila-tamaño_imagen_medio):(fila+tamaño_imagen_medio+1), (columna-tamaño_imagen_medio):(columna+tamaño_imagen_medio+1)] #el +1 es porque el extremo derecho es exclusivo\n",
    "                    #print(recorte.shape)\n",
    "                    cv2.imwrite(\"C:/Users/toto_/PYTHON/CapaG/G\" + str(nro_recorte) + \".png\", recorte)\n",
    "                    #cv2.imwrite(\"C:/Users/Usuario/Desktop/Micaela/TP final/CapaG/G\" + str(nro_recorte) + \".png\", recorte)\n",
    "                    nro_recorte += 1"
   ]
  },
  {
   "cell_type": "code",
   "execution_count": 8,
   "metadata": {},
   "outputs": [],
   "source": [
    "Totalrecortes1 = nro_recorte"
   ]
  },
  {
   "cell_type": "code",
   "execution_count": 9,
   "metadata": {},
   "outputs": [],
   "source": [
    "nro_recorte = 0\n",
    "suma=0"
   ]
  },
  {
   "cell_type": "code",
   "execution_count": 10,
   "metadata": {},
   "outputs": [
    {
     "name": "stdout",
     "output_type": "stream",
     "text": [
      "Muestra de (columna, fila, anchocol, anchofila), de ROI de capa gruesa (12, 158, 91, 43)\n",
      "Muestra de (columna, fila, anchocol, anchofila), de ROI de capa gruesa (92, 190, 58, 50)\n",
      "Muestra de (columna, fila, anchocol, anchofila), de ROI de capa gruesa (125, 227, 87, 58)\n",
      "Muestra de (columna, fila, anchocol, anchofila), de ROI de capa gruesa (181, 270, 96, 68)\n",
      "Muestra de (columna, fila, anchocol, anchofila), de ROI de capa gruesa (254, 319, 95, 73)\n",
      "Muestra de (columna, fila, anchocol, anchofila), de ROI de capa gruesa (325, 374, 82, 65)\n",
      "Muestra de (columna, fila, anchocol, anchofila), de ROI de capa gruesa (393, 427, 79, 74)\n",
      "Muestra de (columna, fila, anchocol, anchofila), de ROI de capa gruesa (459, 493, 68, 62)\n",
      "Muestra de (columna, fila, anchocol, anchofila), de ROI de capa gruesa (525, 554, 64, 71)\n",
      "Muestra de (columna, fila, anchocol, anchofila), de ROI de capa gruesa (585, 615, 52, 75)\n",
      "Muestra de (columna, fila, anchocol, anchofila), de ROI de capa gruesa (629, 666, 72, 70)\n",
      "Muestra de (columna, fila, anchocol, anchofila), de ROI de capa gruesa (688, 717, 82, 76)\n",
      "12\n"
     ]
    }
   ],
   "source": [
    "#Obtencion ROIS capa fina Imagen1\n",
    "showCrosshair = False\n",
    "fromCenter = False\n",
    "\n",
    "lista_rois_fina=[]\n",
    "\n",
    "for _ in range(cant_rois_1):\n",
    "    roi1_CF = cv2.selectROI(\"delimite la ROI1 CAPA FINA con mouse +ent+tecla\", R_1, fromCenter, showCrosshair)\n",
    "    cv2.waitKey() #espera pulsado de tecla. tengo que seleccionar sector, luego enter, y luego salgo con tecla\n",
    "    imagen1_roi_F=R_1[roi1_CF[1]:(roi1_CF[1]+roi1_CF[3]),roi1_CF[0]:(roi1_CF[0]+roi1_CF[2])]\n",
    "    print('Muestra de (columna, fila, anchocol, anchofila), de ROI de capa gruesa', roi1_CF)\n",
    "    #print('Muestra de pixeles del ROI' , [i+1] , 'de capa gruesa', imagen1_roi_G)\n",
    "    cv2.destroyAllWindows()\n",
    "    lista_rois_fina.append(imagen1_roi_F)\n",
    "\n",
    "print(len(lista_rois_fina))  \n",
    "for roi in lista_rois_fina:\n",
    "#    for _ in range(cant_recortes_por_roi):\n",
    "            for fila in range(marco, roi.shape[0]-marco, tamaño_imagen_medio):\n",
    "                for columna in range(marco, roi.shape[1]-marco, tamaño_imagen_medio):\n",
    "                    recorte = roi[(fila-tamaño_imagen_medio):(fila+tamaño_imagen_medio+1), (columna-tamaño_imagen_medio):(columna+tamaño_imagen_medio+1)] #el +1 es porque el extremo derecho es exclusivo\n",
    "                    #print(recorte.shape)\n",
    "                    cv2.imwrite(\"C:/Users/toto_/PYTHON/CapaF/F\" + str(nro_recorte) + \".png\", recorte)\n",
    "                    #cv2.imwrite(\"C:/Users/Usuario/Desktop/Micaela/TP final/CapaF/F\" + str(nro_recorte) + \".png\", recorte)\n",
    "                    nro_recorte += 1"
   ]
  },
  {
   "cell_type": "code",
   "execution_count": 11,
   "metadata": {},
   "outputs": [
    {
     "name": "stdout",
     "output_type": "stream",
     "text": [
      "Muestra de (columna, fila, anchocol, anchofila), de ROI de capa fina (25, 739, 180, 78)\n",
      "Muestra de (columna, fila, anchocol, anchofila), de ROI de capa fina (214, 688, 224, 79)\n",
      "Muestra de (columna, fila, anchocol, anchofila), de ROI de capa fina (422, 633, 195, 63)\n",
      "Muestra de (columna, fila, anchocol, anchofila), de ROI de capa fina (694, 522, 288, 90)\n",
      "4\n"
     ]
    }
   ],
   "source": [
    "#Obtencion ROIS capa fina Imagen2\n",
    "showCrosshair = False\n",
    "fromCenter = False\n",
    "\n",
    "lista_rois_fina=[]\n",
    "\n",
    "for _ in range(cant_rois):\n",
    "    roi2_CF = cv2.selectROI(\"delimite la ROI2 CAPA FINA con mouse +ent+tecla\", R_2, fromCenter, showCrosshair)\n",
    "    cv2.waitKey() #espera pulsado de tecla. tengo que seleccionar sector, luego enter, y luego salgo con tecla\n",
    "    imagen2_roi_F=R_1[roi2_CF[1]:(roi2_CF[1]+roi2_CF[3]),roi2_CF[0]:(roi2_CF[0]+roi2_CF[2])]\n",
    "    print('Muestra de (columna, fila, anchocol, anchofila), de ROI de capa fina', roi2_CF)\n",
    "    #print('Muestra de pixeles del ROI' , [i+1] , 'de capa gruesa', imagen1_roi_G)\n",
    "    cv2.destroyAllWindows()\n",
    "    lista_rois_fina.append(imagen2_roi_F)\n",
    "\n",
    "print(len(lista_rois_fina))\n",
    "for roi in lista_rois_fina:\n",
    "#    for _ in range(cant_recortes_por_roi):\n",
    "            for fila in range(marco, roi.shape[0]-marco, tamaño_imagen_medio):\n",
    "                for columna in range(marco, roi.shape[1]-marco, tamaño_imagen_medio):\n",
    "                    recorte = roi[(fila-tamaño_imagen_medio):(fila+tamaño_imagen_medio+1), (columna-tamaño_imagen_medio):(columna+tamaño_imagen_medio+1)] #el +1 es porque el extremo derecho es exclusivo\n",
    "                    #print(recorte.shape)\n",
    "                    cv2.imwrite(\"C:/Users/toto_/PYTHON/CapaF/F\" + str(nro_recorte) + \".png\", recorte)\n",
    "                    #cv2.imwrite(\"C:/Users/Usuario/Desktop/Micaela/TP final/CapaF/F\" + str(nro_recorte) + \".png\", recorte)\n",
    "                    nro_recorte += 1"
   ]
  },
  {
   "cell_type": "code",
   "execution_count": 12,
   "metadata": {},
   "outputs": [
    {
     "name": "stdout",
     "output_type": "stream",
     "text": [
      "Muestra de (columna, fila, anchocol, anchofila), de ROI de capa gruesa (694, 522, 288, 90)\n",
      "Muestra de (columna, fila, anchocol, anchofila), de ROI de capa gruesa (694, 522, 288, 90)\n",
      "Muestra de (columna, fila, anchocol, anchofila), de ROI de capa gruesa (694, 522, 288, 90)\n",
      "Muestra de (columna, fila, anchocol, anchofila), de ROI de capa gruesa (694, 522, 288, 90)\n",
      "4\n"
     ]
    }
   ],
   "source": [
    "#Obtencion ROIS capa fina Imagen3\n",
    "showCrosshair = False\n",
    "fromCenter = False\n",
    "\n",
    "lista_rois_fina=[]\n",
    "\n",
    "for _ in range(cant_rois):\n",
    "    roi3_CF = cv2.selectROI(\"delimite la ROI3 CAPA FINA con mouse +ent+tecla\", R_3, fromCenter, showCrosshair)\n",
    "    cv2.waitKey() #espera pulsado de tecla. tengo que seleccionar sector, luego enter, y luego salgo con tecla\n",
    "    imagen3_roi_F=R_3[roi3_CF[1]:(roi3_CF[1]+roi3_CF[3]),roi3_CF[0]:(roi3_CF[0]+roi3_CF[2])]\n",
    "    print('Muestra de (columna, fila, anchocol, anchofila), de ROI de capa gruesa', roi2_CF)\n",
    "    #print('Muestra de pixeles del ROI' , [i+1] , 'de capa gruesa', imagen2_roi_G)\n",
    "    cv2.destroyAllWindows()\n",
    "    lista_rois_fina.append(imagen3_roi_F)\n",
    "\n",
    "print(len(lista_rois_fina))\n",
    "   \n",
    "for roi in lista_rois_fina:\n",
    "#    for _ in range(cant_recortes_por_roi):\n",
    "            for fila in range(marco, roi.shape[0]-marco, tamaño_imagen_medio):\n",
    "                for columna in range(marco, roi.shape[1]-marco, tamaño_imagen_medio):\n",
    "                    recorte = roi[(fila-tamaño_imagen_medio):(fila+tamaño_imagen_medio+1), (columna-tamaño_imagen_medio):(columna+tamaño_imagen_medio+1)] #el +1 es porque el extremo derecho es exclusivo\n",
    "                    #print(recorte.shape)\n",
    "                    cv2.imwrite(\"C:/Users/toto_/PYTHON/CapaF/F\" + str(nro_recorte) + \".png\", recorte)\n",
    "                    #cv2.imwrite(\"C:/Users/Usuario/Desktop/Micaela/TP final/CapaF/F\" + str(nro_recorte) + \".png\", recorte)\n",
    "                    nro_recorte += 1"
   ]
  },
  {
   "cell_type": "code",
   "execution_count": 13,
   "metadata": {},
   "outputs": [
    {
     "name": "stdout",
     "output_type": "stream",
     "text": [
      "Muestra de (columna, fila, anchocol, anchofila), de ROI de capa gruesa (16, 369, 294, 78)\n",
      "Muestra de (columna, fila, anchocol, anchofila), de ROI de capa gruesa (302, 328, 326, 95)\n",
      "Muestra de (columna, fila, anchocol, anchofila), de ROI de capa gruesa (614, 329, 214, 89)\n",
      "Muestra de (columna, fila, anchocol, anchofila), de ROI de capa gruesa (829, 383, 195, 77)\n",
      "8\n"
     ]
    }
   ],
   "source": [
    "#ImagenRetina4\n",
    "showCrosshair = False\n",
    "fromCenter = False\n",
    "\n",
    "#Obtencion ROIS capa gruesa\n",
    "\n",
    "lista_rois_fina=[] #inicio lista vacia\n",
    "\n",
    "for _ in range(cant_rois):\n",
    "    roi4_CF = cv2.selectROI(\"delimite la ROI4 CAPA GRUESA con mouse +ent+tecla\", R_4, fromCenter, showCrosshair) #es un vector\n",
    "    cv2.waitKey() #espera pulsado de tecla. tengo que seleccionar sector, luego enter, y luego salgo con tecla\n",
    "    imagen4_roi_F=R_4[roi4_CF[1]:(roi4_CF[1]+roi4_CF[3]),roi4_CF[0]:(roi4_CF[0]+roi4_CF[2])] #es una matriz\n",
    "    print('Muestra de (columna, fila, anchocol, anchofila), de ROI de capa gruesa', roi4_CF)\n",
    "    cv2.destroyAllWindows()\n",
    "    lista_rois_gruesa.append(imagen4_roi_F)\n",
    "\n",
    "print(len(lista_rois_gruesa)) #para verificar que al final del for tengo 3 elementos en la lista\n",
    "for roi in lista_rois_gruesa:\n",
    "#    for _ in range(cant_recortes_por_roi):\n",
    "            for fila in range(marco, roi.shape[0]-marco, tamaño_imagen_medio):\n",
    "                for columna in range(marco, roi.shape[1]-marco, tamaño_imagen_medio):\n",
    "                    recorte = roi[(fila-tamaño_imagen_medio):(fila+tamaño_imagen_medio+1), (columna-tamaño_imagen_medio):(columna+tamaño_imagen_medio+1)] #el +1 es porque el extremo derecho es exclusivo\n",
    "                    #print(recorte.shape)\n",
    "                    cv2.imwrite(\"C:/Users/toto_/PYTHON/CapaF/F\" + str(nro_recorte) + \".png\", recorte)\n",
    "                    #cv2.imwrite(\"C:/Users/Usuario/Desktop/Micaela/TP final/CapaF/F\" + str(nro_recorte) + \".png\", recorte)\n",
    "                    nro_recorte += 1"
   ]
  },
  {
   "cell_type": "code",
   "execution_count": 14,
   "metadata": {},
   "outputs": [],
   "source": [
    "Totalrecortes2 = nro_recorte"
   ]
  },
  {
   "cell_type": "code",
   "execution_count": 15,
   "metadata": {},
   "outputs": [
    {
     "name": "stdout",
     "output_type": "stream",
     "text": [
      "11296\n",
      "7182\n"
     ]
    }
   ],
   "source": [
    "print(Totalrecortes1)\n",
    "print(Totalrecortes2)\n"
   ]
  }
 ],
 "metadata": {
  "kernelspec": {
   "display_name": "Python 3",
   "language": "python",
   "name": "python3"
  },
  "language_info": {
   "codemirror_mode": {
    "name": "ipython",
    "version": 3
   },
   "file_extension": ".py",
   "mimetype": "text/x-python",
   "name": "python",
   "nbconvert_exporter": "python",
   "pygments_lexer": "ipython3",
   "version": "3.8.5"
  }
 },
 "nbformat": 4,
 "nbformat_minor": 4
}
