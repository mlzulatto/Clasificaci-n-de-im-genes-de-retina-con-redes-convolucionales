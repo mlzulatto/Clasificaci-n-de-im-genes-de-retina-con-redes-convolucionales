{
 "cells": [
  {
   "cell_type": "markdown",
   "metadata": {
    "id": "nVhSaps4KFeb"
   },
   "source": [
    "## Clasificacion de imagenes de retinas\n",
    "\n",
    "Este documento detalla las lineas de codigos utilizadas para armar una base datos de intesidades de pixeles de interes y su posterior utilizacion para la elaborar redes neuronales que distingue una capa de la otra"
   ]
  },
  {
   "cell_type": "code",
   "execution_count": 1,
   "metadata": {
    "colab": {
     "base_uri": "https://localhost:8080/",
     "height": 197
    },
    "id": "NEgn0wMe98FY",
    "outputId": "4d452000-11ad-401d-890b-ff1469811818"
   },
   "outputs": [],
   "source": [
    "import cv2\n",
    "import tensorflow\n",
    "from tensorflow import keras\n",
    "from tensorflow.keras import layers\n",
    "import matplotlib.pyplot as plt\n",
    "import os\n",
    "import random\n",
    "import numpy as np\n",
    "\n",
    "\n",
    "R_1=cv2.imread(r'D:\\Imagenes de Retina\\Im_retina.tif')\n",
    "R_2=cv2.imread(r'D:\\Imagenes de Retina\\Im_retina2.tif')\n",
    "R_3=cv2.imread(r'D:\\Imagenes de Retina\\Im_retina3.tif')\n",
    "R_4=cv2.imread(r'D:\\Imagenes de Retina\\Im_retina4.tif')\n",
    "\n",
    "### las imagenes las rote en photoshop para poder despues elegir los rectangulos de la roi de manera mas sencilla\n"
   ]
  },
  {
   "cell_type": "markdown",
   "metadata": {
    "id": "j0rk6vuxK-_8"
   },
   "source": [
    "## ROI\n",
    "\n",
    "En este paso se seleccionaron las roi de las capas a analizar. Previamente, las imagenes fueron rotadas en photoshop para ser selecionadas de manera mas sencilla ya que la herramienta de CV2 solo permite seleccionar rectangulos y no poligonos inrregulares."
   ]
  },
  {
   "cell_type": "code",
   "execution_count": null,
   "metadata": {
    "scrolled": true
   },
   "outputs": [],
   "source": [
    "showCrosshair = False\n",
    "fromCenter = False\n",
    "roi1_oscuro = cv2.selectROI( R_1, fromCenter, showCrosshair)\n",
    "roi2_oscuro = cv2.selectROI( R_2, fromCenter, showCrosshair)\n",
    "roi3_oscuro = cv2.selectROI( R_3, fromCenter, showCrosshair)\n",
    "roi4_oscuro = cv2.selectROI( R_4, fromCenter, showCrosshair)\n",
    "roi1_clara = cv2.selectROI( R_1, fromCenter, showCrosshair)\n",
    "roi2_clara = cv2.selectROI( R_2, fromCenter, showCrosshair)\n",
    "roi3_clara = cv2.selectROI( R_3, fromCenter, showCrosshair)\n",
    "roi4_clara = cv2.selectROI( R_4, fromCenter, showCrosshair)\n",
    "cv2.waitKey()\n",
    "\n"
   ]
  },
  {
   "cell_type": "code",
   "execution_count": null,
   "metadata": {},
   "outputs": [],
   "source": [
    "\n",
    "r1_o=[117,219,1084,97]\n",
    "r2_o=[64,411,1011,217]\n",
    "r3_o=[2,338,1022,203]\n",
    "r4_o=[734,3,155,675]\n",
    "\n",
    "r1_c=[99,373,1162,54]\n",
    "r2_c=[433,218,725,111]\n",
    "r3_c=[3,618,878,77]\n",
    "r4_c=[574,2,117,723]"
   ]
  },
  {
   "cell_type": "code",
   "execution_count": null,
   "metadata": {},
   "outputs": [],
   "source": [
    "imagen1_roi_O=R_1[r1_o[1]:(r1_o[1]+r1_o[3]),r1_o[0]:(r1_o[0]+r1_o[2])]\n",
    "imagen2_roi_O=R_2[r2_o[1]:(r2_o[1]+r2_o[3]),r2_o[0]:(r2_o[0]+r2_o[2])]\n",
    "imagen3_roi_O=R_3[r3_o[1]:(r3_o[1]+r3_o[3]),r3_o[0]:(r3_o[0]+r3_o[2])]\n",
    "imagen4_roi_O=R_4[r4_o[1]:(r4_o[1]+r4_o[3]),r4_o[0]:(r4_o[0]+r4_o[2])]\n",
    "\n",
    "imagen1_roi_C=R_1[r1_c[1]:(r1_c[1]+r1_c[3]),r1_c[0]:(r1_c[0]+r1_c[2])]\n",
    "imagen2_roi_C=R_2[r2_c[1]:(r2_c[1]+r2_c[3]),r2_c[0]:(r2_c[0]+r2_c[2])]\n",
    "imagen3_roi_C=R_3[r3_c[1]:(r3_c[1]+r3_c[3]),r3_c[0]:(r3_c[0]+r3_c[2])]\n",
    "imagen4_roi_C=R_4[r4_c[1]:(r4_c[1]+r4_c[3]),r4_c[0]:(r4_c[0]+r4_c[2])]"
   ]
  },
  {
   "cell_type": "code",
   "execution_count": null,
   "metadata": {},
   "outputs": [],
   "source": [
    "i1_r_O=imagen1_roi_O[:,:,1]\n",
    "i2_r_O=imagen2_roi_O[:,:,1]\n",
    "i3_r_O=imagen3_roi_O[:,:,1]\n",
    "i4_r_O=imagen4_roi_O[:,:,1]\n",
    "\n",
    "i1_r_C=imagen1_roi_C[:,:,1]\n",
    "i2_r_C=imagen2_roi_C[:,:,1]\n",
    "i3_r_C=imagen3_roi_C[:,:,1]\n",
    "i4_r_C=imagen4_roi_C[:,:,1]"
   ]
  },
  {
   "cell_type": "code",
   "execution_count": null,
   "metadata": {},
   "outputs": [],
   "source": [
    "imagenes_oscuras=[i1_r_O,i2_r_O,i3_r_O,i4_r_O]\n",
    "imagenes_clara=[i1_r_C,i2_r_C,i3_r_C,i4_r_C]"
   ]
  },
  {
   "cell_type": "markdown",
   "metadata": {
    "id": "j0rk6vuxK-_8"
   },
   "source": [
    "## Selecciones de pixeles dentro de las rois\n",
    "\n",
    "Una vez recortadas las imagenes en las regiones de interes, elaboramos los siguientes algoritmos que van seleccionando 6000 pixeles y sus vecinos de cada imagen. Ademas se le agrego un sexto elemento al vector de cada quintupla de pixeles que indica el grupo de celulas a quien pertenecen."
   ]
  },
  {
   "cell_type": "code",
   "execution_count": null,
   "metadata": {},
   "outputs": [],
   "source": [
    "datos_o=None\n",
    "\n",
    "for r in range (4):\n",
    "    for p in range (6000):\n",
    "        fil=random.randint(10,imagenes_oscuras[r].shape[0]-10)\n",
    "        col=random.randint(10,imagenes_oscuras[r].shape[1]-10)        \n",
    "        pixeles_o = [imagenes_oscuras[r][fil, col], imagenes_oscuras[r][fil+5, col], imagenes_oscuras[r][fil, col+5], imagenes_oscuras[r][fil-5,col],imagenes_oscuras[r][fil,col-5],0]\n",
    "        print('voy por los pixels ',r,fil,col)\n",
    "        if datos_o is None:\n",
    "              datos_o=pixeles_o\n",
    "        else:\n",
    "              datos_o= np.vstack((datos_o,pixeles_o))"
   ]
  },
  {
   "cell_type": "code",
   "execution_count": null,
   "metadata": {},
   "outputs": [],
   "source": [
    "datos_c=None\n",
    "\n",
    "for r in range (4):\n",
    "    for p in range (6000):\n",
    "        fil=random.randint(10,imagenes_clara[r].shape[0]-10)\n",
    "        col=random.randint(10,imagenes_clara[r].shape[1]-10)        \n",
    "        pixelesc = [imagenes_clara[r][fil, col], imagenes_clara[r][fil+5, col], imagenes_clara[r][fil, col+5], imagenes_clara[r][fil-5,col],imagenes_clara[r][fil,col-5],1]\n",
    "        print('voy por los pixels ',r,fil,col)\n",
    "        if datos_c is None:\n",
    "              datos_c=pixelesc\n",
    "        else:\n",
    "              datos_c= np.vstack((datos_c,pixelesc))"
   ]
  },
  {
   "cell_type": "markdown",
   "metadata": {
    "id": "j0rk6vuxK-_8"
   },
   "source": [
    "## Elaboracion de base de datos\n",
    "\n",
    "Ya seleccionadas la intesidad de los pixeles de cada grupo, armamos una base de datos y posteriormente las desoordenamos al azar ya que los datos estaban distruido de manera uniforme. Los primeros 24000 pertenecian a la categoria 0 y los segundo a la 1."
   ]
  },
  {
   "cell_type": "code",
   "execution_count": null,
   "metadata": {},
   "outputs": [],
   "source": [
    "base_datos=np.vstack((datos_o,datos_c))\n",
    "base_datos.shape"
   ]
  },
  {
   "cell_type": "code",
   "execution_count": null,
   "metadata": {},
   "outputs": [],
   "source": [
    "np.take(base_datos,np.random.permutation(base_datos.shape[0]),axis=0,out=base_datos)"
   ]
  },
  {
   "cell_type": "markdown",
   "metadata": {
    "id": "j0rk6vuxK-_8"
   },
   "source": [
    "## Separamos los datos en entranamiento y testeo\n",
    "\n",
    "Como los datos estan distribuidos de manera aleatoria en la base podemos selecionar los primeros 40000 para entrenamiento y los otros 8000 para testeo. Luego verificamos si entan distribuido de manera uniforme"
   ]
  },
  {
   "cell_type": "code",
   "execution_count": null,
   "metadata": {},
   "outputs": [],
   "source": [
    "\n",
    "X_train=None\n",
    "Y_train=None\n",
    "for p in range (40000):\n",
    "    xt=base_datos[p][0:5]\n",
    "    yt=base_datos[p][5]\n",
    "    if X_train is None:\n",
    "              X_train=xt\n",
    "              Y_train=  yt\n",
    "    else:\n",
    "        Y_train= np.vstack((Y_train,yt))\n",
    "        X_train= np.vstack((X_train,xt))\n",
    "            "
   ]
  },
  {
   "cell_type": "code",
   "execution_count": null,
   "metadata": {},
   "outputs": [],
   "source": [
    "X_test=None\n",
    "Y_test=None\n",
    "for p in range (40001, 48000):\n",
    "    xte=base_datos[p][0:5]\n",
    "    yte=base_datos[p][5]\n",
    "    if X_test is None:\n",
    "              X_test=xte\n",
    "              Y_test=yte\n",
    "    else:\n",
    "        Y_test= np.vstack((Y_test,yte))\n",
    "        X_test= np.vstack((X_test,xte))"
   ]
  },
  {
   "cell_type": "code",
   "execution_count": null,
   "metadata": {},
   "outputs": [],
   "source": [
    "\n",
    "print(Y_train.sum()/len(Y_train))\n",
    "print(Y_test.sum()/len(Y_test))"
   ]
  },
  {
   "cell_type": "markdown",
   "metadata": {
    "id": "j0rk6vuxK-_8"
   },
   "source": [
    "## Elaboracion de las redes neuronales\n",
    "\n",
    " Armamos dos redes neuronales distintas para poder comparar sus rendimientos."
   ]
  },
  {
   "cell_type": "code",
   "execution_count": null,
   "metadata": {},
   "outputs": [],
   "source": [
    "Y_train = keras.utils.to_categorical(Y_train)"
   ]
  },
  {
   "cell_type": "code",
   "execution_count": null,
   "metadata": {},
   "outputs": [],
   "source": [
    "Y_test = keras.utils.to_categorical(Y_test)"
   ]
  },
  {
   "cell_type": "code",
   "execution_count": null,
   "metadata": {},
   "outputs": [],
   "source": [
    "pixeles_entrada1 = layers.Input(shape = (5,))"
   ]
  },
  {
   "cell_type": "code",
   "execution_count": null,
   "metadata": {},
   "outputs": [],
   "source": [
    "#ARMADO DE LA RED NEURONAL 1\n",
    "Capa11 = layers.Dense(units = 42, activation = 'relu')(pixeles_entrada1)\n",
    "Capa21 = layers.Dense(units = 200, activation = 'relu')(Capa11)\n",
    "Salida1 = layers.Dense(units = 2, activation = 'softmax')(Capa21)\n",
    "Red_Neuronal1 = keras.Model(inputs = pixeles_entrada1, outputs = Salida1)"
   ]
  },
  {
   "cell_type": "code",
   "execution_count": null,
   "metadata": {},
   "outputs": [],
   "source": [
    "Red_Neuronal1.compile(loss = 'categorical_crossentropy', optimizer = 'adam', metrics = ['accuracy'])"
   ]
  },
  {
   "cell_type": "code",
   "execution_count": null,
   "metadata": {},
   "outputs": [],
   "source": [
    "Historia1 = Red_Neuronal1.fit(x = X_train, y = Y_train, epochs = 10, batch_size = 32, validation_data = (X_test, Y_test))"
   ]
  },
  {
   "cell_type": "code",
   "execution_count": null,
   "metadata": {},
   "outputs": [],
   "source": [
    "Capa12 = layers.Dense(units = 70, activation = 'sigmoid')(pixeles_entrada1)\n",
    "Capa22 = layers.Dense(units = 221, activation = 'relu')(Capa12)\n",
    "Capa32 = layers.Dense(units = 100, activation = 'sigmoid')(Capa22)\n",
    "Salida2 = layers.Dense(units = 2, activation = 'softmax')(Capa32)\n",
    "Red_Neuronal2 = keras.Model(inputs = pixeles_entrada1, outputs = Salida2)\n"
   ]
  },
  {
   "cell_type": "code",
   "execution_count": null,
   "metadata": {},
   "outputs": [],
   "source": [
    "Red_Neuronal2.compile(loss = 'categorical_crossentropy', optimizer = 'adam', metrics = ['accuracy'])"
   ]
  },
  {
   "cell_type": "code",
   "execution_count": null,
   "metadata": {
    "scrolled": true
   },
   "outputs": [],
   "source": [
    "Historia2 = Red_Neuronal2.fit(x = X_train, y = Y_train, epochs = 10, batch_size = 64, validation_data = (X_test, Y_test))"
   ]
  },
  {
   "cell_type": "code",
   "execution_count": null,
   "metadata": {},
   "outputs": [],
   "source": [
    "Capa13 = layers.Dense(units = 70, activation = 'sigmoid')(pixeles_entrada1)\n",
    "Capa23 = layers.Dense(units = 221, activation = 'relu')(Capa13)\n",
    "Capa33 = layers.Dense(units = 100, activation = 'sigmoid')(Capa23)\n",
    "Capa43 = layers.Dense(units = 300, activation = 'relu')(Capa33)\n",
    "Capa53 = layers.Dense(units = 40, activation = 'relu')(Capa43)\n",
    "Salida3 = layers.Dense(units = 2, activation = 'softmax')(Capa53)\n",
    "Red_Neuronal3 = keras.Model(inputs = pixeles_entrada1, outputs = Salida3)\n"
   ]
  },
  {
   "cell_type": "code",
   "execution_count": null,
   "metadata": {},
   "outputs": [],
   "source": [
    "Red_Neuronal3.compile(loss = 'categorical_crossentropy', optimizer = 'adam', metrics = ['accuracy'])"
   ]
  },
  {
   "cell_type": "code",
   "execution_count": null,
   "metadata": {},
   "outputs": [],
   "source": [
    "Historia3 = Red_Neuronal3.fit(x = X_train, y = Y_train, epochs = 10, batch_size = 64, validation_data = (X_test, Y_test))"
   ]
  },
  {
   "cell_type": "markdown",
   "metadata": {
    "id": "j0rk6vuxK-_8"
   },
   "source": [
    "## Corroboramos el rendimiento de cada una\n"
   ]
  },
  {
   "cell_type": "code",
   "execution_count": null,
   "metadata": {},
   "outputs": [],
   "source": [
    "plt.plot(Historia1.history['accuracy'], label = 'Entrenamiento de la red 1')\n",
    "plt.plot(Historia1.history['val_accuracy'], label = 'Prueba de la red 1')\n",
    "plt.plot(Historia2.history['accuracy'], label = 'Entrenamiento de la red 2')\n",
    "plt.plot(Historia2.history['val_accuracy'], label = 'Prueba de la red 2')\n",
    "plt.plot(Historia3.history['accuracy'], label = 'Entrenamiento de la red 3')\n",
    "plt.plot(Historia3.history['val_accuracy'], label = 'Prueba de la red 3')\n",
    "plt.grid()\n",
    "plt.xlabel('Cantidad de Épocas')\n",
    "plt.ylabel('Accuracy')\n",
    "plt.legend()\n",
    "plt.show()"
   ]
  },
  {
   "cell_type": "markdown",
   "metadata": {},
   "source": [
    "# Puesta a prueba - Imagen conocida"
   ]
  },
  {
   "cell_type": "code",
   "execution_count": null,
   "metadata": {},
   "outputs": [],
   "source": [
    "step = 10\n",
    "if step%2 != 0:\n",
    "    step = step + 1\n",
    "\n",
    "matriz_colores = np.zeros(imagen.shape)\n",
    "for i in range(100, imagen.shape[0] - 50, step):\n",
    "    for j in range(20, imagen.shape[1] - 200, step):\n",
    "        vector = [imagen[i-5, j], imagen[i, j-5], ..]\n",
    "        pred = Red_Neuronal2.predict(vector)\n",
    "        \n",
    "        if np.argmax(pred) == 0:\n",
    "            matriz_colores[0, i-int(step/2): i+int(step/2)+1, j-int(step/2):j+int(step/2)+1] = 1\n",
    "        elif np.argmax(pred) == :\n",
    "            matriz_colores[1, i-int(step/2): i+int(step/2)+1, j-int(step/2):j+int(step/2)+1] = 1\n",
    "            \n",
    "plt.figure()\n",
    "plt.title(\"Immagen orig\")\n",
    "plt.imshow(imagen)\n",
    "plt.figure()\n",
    "plt.title(\"Predicciones\")\n",
    "plt.imshow(matriz_colores)"
   ]
  },
  {
   "cell_type": "markdown",
   "metadata": {},
   "source": [
    "# Puesta a prueba - Imagen desconocida"
   ]
  },
  {
   "cell_type": "code",
   "execution_count": null,
   "metadata": {},
   "outputs": [],
   "source": [
    "#cargar R_5"
   ]
  },
  {
   "cell_type": "code",
   "execution_count": null,
   "metadata": {},
   "outputs": [],
   "source": [
    "step = 10\n",
    "if step%2 != 0:\n",
    "    step = step + 1\n",
    "\n",
    "matriz_colores = np.zeros(imagen.shape)\n",
    "for i in range(100, imagen.shape[0] - 50, step):\n",
    "    for j in range(20, imagen.shape[1] - 200, step):\n",
    "        vector = [imagen[i-5, j], imagen[i, j-5], ..]\n",
    "        pred = Red_Neuronal2.predict(vector)\n",
    "        \n",
    "        if np.argmax(pred) == 0:\n",
    "            matriz_colores[0, i-int(step/2): i+int(step/2)+1, j-int(step/2):j+int(step/2)+1] = 1\n",
    "        elif np.argmax(pred) == :\n",
    "            matriz_colores[1, i-int(step/2): i+int(step/2)+1, j-int(step/2):j+int(step/2)+1] = 1\n",
    "            \n",
    "plt.figure()\n",
    "plt.title(\"Immagen orig\")\n",
    "plt.imshow(imagen)\n",
    "plt.figure()\n",
    "plt.title(\"Predicciones\")\n",
    "plt.imshow(matriz_colores)"
   ]
  }
 ],
 "metadata": {
  "colab": {
   "collapsed_sections": [],
   "name": "Copia de Info de código.ipynb",
   "provenance": [],
   "toc_visible": true
  },
  "kernelspec": {
   "display_name": "Python 3",
   "language": "python",
   "name": "python3"
  },
  "language_info": {
   "codemirror_mode": {
    "name": "ipython",
    "version": 3
   },
   "file_extension": ".py",
   "mimetype": "text/x-python",
   "name": "python",
   "nbconvert_exporter": "python",
   "pygments_lexer": "ipython3",
   "version": "3.8.5"
  }
 },
 "nbformat": 4,
 "nbformat_minor": 1
}
