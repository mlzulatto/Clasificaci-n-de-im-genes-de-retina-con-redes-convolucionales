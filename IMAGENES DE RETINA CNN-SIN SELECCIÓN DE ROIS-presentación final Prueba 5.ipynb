{
 "cells": [
  {
   "cell_type": "code",
   "execution_count": 1,
   "metadata": {},
   "outputs": [],
   "source": [
    "import cv2\n",
    "import tensorflow\n",
    "from tensorflow import keras\n",
    "from tensorflow.keras import layers\n",
    "import matplotlib.pyplot as plt\n",
    "import os\n",
    "import random\n",
    "import numpy as np\n",
    "import sklearn\n"
   ]
  },
  {
   "cell_type": "markdown",
   "metadata": {},
   "source": [
    "## Carga de archivo de Imagen"
   ]
  },
  {
   "cell_type": "code",
   "execution_count": 2,
   "metadata": {},
   "outputs": [
    {
     "name": "stdout",
     "output_type": "stream",
     "text": [
      "(1024, 1024)\n"
     ]
    }
   ],
   "source": [
    "R_1 = cv2.imread('ImagenRetina1.tif', cv2.IMREAD_GRAYSCALE)\n",
    "R_2 = cv2.imread('ImagenRetina2.tif', cv2.IMREAD_GRAYSCALE)\n",
    "R_3 = cv2.imread('ImagenRetina3.tif', cv2.IMREAD_GRAYSCALE)\n",
    "R_4 = cv2.imread('ImagenRetina4.tif', cv2.IMREAD_GRAYSCALE)\n",
    "\n",
    "print(R_1.shape)\n"
   ]
  },
  {
   "cell_type": "code",
   "execution_count": 3,
   "metadata": {},
   "outputs": [],
   "source": [
    "Totalrecortes1= 11296\n",
    "\n",
    "\n",
    "Totalrecortes2= 7182"
   ]
  },
  {
   "cell_type": "markdown",
   "metadata": {},
   "source": [
    "## STACK VERTICAL IMAGENES"
   ]
  },
  {
   "cell_type": "code",
   "execution_count": 4,
   "metadata": {},
   "outputs": [
    {
     "name": "stdout",
     "output_type": "stream",
     "text": [
      "(1, 15, 15)\n",
      "[0. 0. 0. ... 1. 1. 1.]\n"
     ]
    }
   ],
   "source": [
    "nro_recorte = 0\n",
    "ApiladoCapa = None\n",
    "\n",
    "etiquetas=[]\n",
    "\n",
    "for nro_recorte in range(Totalrecortes1):\n",
    "    \n",
    "    LecturaG=cv2.imread(\"C:/Users/toto_/PYTHON/CapaG/G\" + str(nro_recorte) + \".png\", cv2.IMREAD_GRAYSCALE)\n",
    "    etiquetas=np.append(etiquetas,0)\n",
    "         \n",
    "    if ApiladoCapa is None:\n",
    "        \n",
    "        #ApiladoCapa= np.array([LecturaG]) #Genera una lista , que para np es una nueva dimension tendria 1x11x11\n",
    "        ApiladoCapa= LecturaG[np.newaxis,:,:] #Agrega un eje temporal en la ultima dimensión\n",
    "        print (ApiladoCapa.shape)        \n",
    "        \n",
    "    else:\n",
    "        #ApiladoCapa= np.vstack((ApiladoCapa,np.array([LecturaG])))\n",
    "        \n",
    "        #ApiladoCapa= np.append(ApiladoCapa,LecturaG[:,:,np.newaxis],axis=-1)\n",
    "        ApiladoCapa= np.append(ApiladoCapa,LecturaG[np.newaxis,:,:],axis=0)\n",
    "          \n",
    "    nro_recorte += 1\n",
    "    \n",
    "    \n",
    "nro_recorte = 0\n",
    "\n",
    "for nro_recorte in range(Totalrecortes2): \n",
    "    \n",
    "    LecturaF=cv2.imread(\"C:/Users/toto_/PYTHON/CapaF/F\" + str(nro_recorte) + \".png\", cv2.IMREAD_GRAYSCALE) \n",
    "    etiquetas=np.append(etiquetas,1)\n",
    "    \n",
    "    #ApiladoCapa= np.append(ApiladoCapa,LecturaF[:,:,np.newaxis],axis=-1)\n",
    "    ApiladoCapa= np.append(ApiladoCapa,LecturaF[np.newaxis,:,:],axis=0)\n",
    "    \n",
    "    nro_recorte += 1\n",
    "\n",
    "print(etiquetas)"
   ]
  },
  {
   "cell_type": "code",
   "execution_count": 5,
   "metadata": {},
   "outputs": [
    {
     "name": "stdout",
     "output_type": "stream",
     "text": [
      "(18478, 15, 15)\n",
      "(18478,)\n"
     ]
    }
   ],
   "source": [
    "X = ApiladoCapa\n",
    "print(ApiladoCapa.shape)\n",
    "Y = etiquetas\n",
    "print(etiquetas.shape)"
   ]
  },
  {
   "cell_type": "markdown",
   "metadata": {},
   "source": [
    "\n"
   ]
  },
  {
   "cell_type": "code",
   "execution_count": 6,
   "metadata": {},
   "outputs": [],
   "source": [
    "#!pip install xgboost"
   ]
  },
  {
   "cell_type": "code",
   "execution_count": 7,
   "metadata": {},
   "outputs": [],
   "source": [
    "import pandas as pd\n",
    "import seaborn as sns\n",
    "from sklearn.model_selection import train_test_split\n",
    "\n",
    "from sklearn.model_selection import (RandomizedSearchCV,\n",
    "                                     KFold,\n",
    "                                     cross_val_score,\n",
    "                                     train_test_split)\n"
   ]
  },
  {
   "cell_type": "code",
   "execution_count": 8,
   "metadata": {},
   "outputs": [],
   "source": [
    "X_train,X_test,  Y_train, Y_test = train_test_split(X,\n",
    "                                                    Y,\n",
    "                                                    test_size=0.3,\n",
    "                                                    shuffle = True,\n",
    "                                                    stratify=Y,\n",
    "                                                    random_state=123)"
   ]
  },
  {
   "cell_type": "code",
   "execution_count": 9,
   "metadata": {},
   "outputs": [
    {
     "name": "stdout",
     "output_type": "stream",
     "text": [
      "(12934, 15, 15) (12934,)\n",
      "(5544, 15, 15) (5544,)\n"
     ]
    }
   ],
   "source": [
    "print(X_train.shape, Y_train.shape)\n",
    "\n",
    "print(X_test.shape, Y_test.shape)\n"
   ]
  },
  {
   "cell_type": "markdown",
   "metadata": {},
   "source": [
    "## Red neuronal convolucional "
   ]
  },
  {
   "cell_type": "code",
   "execution_count": 10,
   "metadata": {},
   "outputs": [],
   "source": [
    "#Convierte un vector de clase (enteros) en una matriz de clase binaria ONE-HOT.\n",
    "Y_train = keras.utils.to_categorical(Y_train)\n",
    "Y_test = keras.utils.to_categorical(Y_test)"
   ]
  },
  {
   "cell_type": "code",
   "execution_count": 11,
   "metadata": {},
   "outputs": [],
   "source": [
    "from PIL import Image\n",
    "\n",
    "def rotacion(imagen, angulo):\n",
    "    imagen = Image.fromarray(imagen)\n",
    "    imagen_rotada = imagen.rotate(angle = angulo, expand = False)\n",
    "    return np.array(imagen_rotada)"
   ]
  },
  {
   "cell_type": "code",
   "execution_count": 12,
   "metadata": {},
   "outputs": [],
   "source": [
    "import random\n",
    "from PIL import Image\n",
    "\n",
    "def ruido(image,prob): \n",
    "#agregar ruido salt and pepper noise a una imagen \n",
    "#prob=probabilidad del ruido \n",
    "    output = np.zeros(image.shape,np.uint8)   \n",
    "    for i in range(image.shape[0]): \n",
    "        for j in range(image.shape[1]): \n",
    "            rdn = random.random() #devuelve flotante entre 0. y 1.\n",
    "            if rdn < prob: \n",
    "                output[i][j] = 0 \n",
    "            elif rdn > (1-prob): \n",
    "                output[i][j] = 255 \n",
    "            else: \n",
    "                output[i][j] = image[i][j] \n",
    "    return output "
   ]
  },
  {
   "cell_type": "code",
   "execution_count": 13,
   "metadata": {},
   "outputs": [],
   "source": [
    "def gamma(imagen,gamma):\n",
    "    #función que dada una imagen (arreglo de tipo uint8), y un valor positivo gamma\n",
    "    #devuelve otra del mismo tipo pero con ajute gamma, si gamma>1, más oscura y si gamma <1 más clara\n",
    "    imagenresultado=255*((imagen/255)**gamma)\n",
    "    imagenresultado=imagenresultado.astype('uint8')\n",
    "    return imagenresultado"
   ]
  },
  {
   "cell_type": "code",
   "execution_count": 14,
   "metadata": {},
   "outputs": [
    {
     "data": {
      "image/png": "[encoded data removed]",
      "text/plain": [
       "<Figure size 1080x2160 with 6 Axes>"
      ]
     },
     "metadata": {
      "needs_background": "light"
     },
     "output_type": "display_data"
    },
    {
     "name": "stdout",
     "output_type": "stream",
     "text": [
      "(15, 15)\n"
     ]
    }
   ],
   "source": [
    "fig, ax = plt.subplots(1, 6, figsize = (15, 30))\n",
    "\n",
    "ax[0].imshow(X_train[0]);\n",
    "ax[0].axis('off')\n",
    "ax[0].set_title('Original')\n",
    "\n",
    "ax[1].imshow(rotacion(X_train[0], 10));\n",
    "ax[1].axis('off')\n",
    "ax[1].set_title('Rotada +10')\n",
    "\n",
    "ax[2].imshow(rotacion(X_train[0], -10));\n",
    "ax[2].axis('off')\n",
    "ax[2].set_title('Rotada -10')\n",
    "\n",
    "ax[3].imshow(ruido(X_train[0], 0.05));\n",
    "ax[3].axis('off')\n",
    "ax[3].set_title('con ruido Sal y Pimienta')\n",
    "\n",
    "ax[4].imshow(gamma(X_train[0], 0.5));\n",
    "ax[4].axis('off')\n",
    "ax[4].set_title('aclarada')\n",
    "\n",
    "ax[5].imshow(gamma(X_train[0], 2));\n",
    "ax[5].axis('off')\n",
    "ax[5].set_title('oscurecida')\n",
    "\n",
    "\n",
    "plt.show()\n",
    "\n",
    "print(rotacion(X_train[0], 5).shape)"
   ]
  },
  {
   "cell_type": "code",
   "execution_count": null,
   "metadata": {},
   "outputs": [],
   "source": []
  },
  {
   "cell_type": "code",
   "execution_count": 15,
   "metadata": {},
   "outputs": [],
   "source": [
    "def aumentacion(imagenes, etiquetass):\n",
    "    lista_imagenes = []\n",
    "    lista_etiquetas = []\n",
    "    \n",
    "    for i in range(imagenes.shape[0]):\n",
    "        imagen, etiqueta = imagenes[i], etiquetass[i]\n",
    "\n",
    "        lista_imagenes.append(imagen)\n",
    "        lista_etiquetas.append(etiqueta)\n",
    "\n",
    "        lista_imagenes.append(rotacion(imagen, 5))\n",
    "        lista_etiquetas.append(etiqueta)    \n",
    "\n",
    "        lista_imagenes.append(rotacion(imagen, -5))\n",
    "        lista_etiquetas.append(etiqueta)\n",
    "        \n",
    "        lista_imagenes.append(rotacion(imagen, 10))\n",
    "        lista_etiquetas.append(etiqueta)    \n",
    "\n",
    "        lista_imagenes.append(rotacion(imagen, -10))\n",
    "        lista_etiquetas.append(etiqueta)\n",
    "        \n",
    "        lista_imagenes.append(gamma(imagen, 0.5))\n",
    "        lista_etiquetas.append(etiqueta)\n",
    "        \n",
    "        lista_imagenes.append(gamma(imagen, 2))\n",
    "        lista_etiquetas.append(etiqueta)\n",
    "\n",
    "        \n",
    "    list_aux = list(zip(lista_imagenes, lista_etiquetas))\n",
    "    #aqui guarda las imagenes y al lado su etiqueta\n",
    "\n",
    "    random.shuffle(list_aux)\n",
    "    #el shuffle sirve para desordenar los datos y no queden consecutivamente 3 etiquetas iguales seguidas(de la normal y las dos rotaciones)\n",
    "\n",
    "    lista_imagenes, lista_etiquetas = zip(*list_aux)\n",
    "    #anzip, osea despego las listas por asi decirlo\n",
    "    \n",
    "    return np.asarray(lista_imagenes), np.asarray(lista_etiquetas)\n",
    "#me devuelve las dos listas separados"
   ]
  },
  {
   "cell_type": "code",
   "execution_count": 16,
   "metadata": {},
   "outputs": [
    {
     "name": "stdout",
     "output_type": "stream",
     "text": [
      "(90538, 15, 15) (90538, 2)\n",
      "(38808, 15, 15) (38808, 2)\n"
     ]
    }
   ],
   "source": [
    "X_train, Y_train = aumentacion(X_train, Y_train)\n",
    "X_test, Y_test = aumentacion(X_test, Y_test)\n",
    "\n",
    "print(X_train.shape, Y_train.shape)\n",
    "print(X_test.shape, Y_test.shape)\n",
    "#Respeta que se triplicaron los datos imagenes y lista de etiquetas"
   ]
  },
  {
   "cell_type": "code",
   "execution_count": 17,
   "metadata": {},
   "outputs": [],
   "source": [
    "Imagen_de_entrada = layers.Input(shape = (15, 15, 1))"
   ]
  },
  {
   "cell_type": "code",
   "execution_count": 18,
   "metadata": {},
   "outputs": [],
   "source": [
    "X = layers.Conv2D(filters = 32, kernel_size = (3, 3), activation = None, kernel_regularizer = keras.regularizers.l2(0.01))(Imagen_de_entrada)"
   ]
  },
  {
   "cell_type": "code",
   "execution_count": 19,
   "metadata": {},
   "outputs": [],
   "source": [
    "X = layers.BatchNormalization()(X)\n",
    "#(x) es la capa a normalizar, la cual es la capa de convolución\n",
    "\n",
    "X = layers.Activation(\"relu\")(X)\n",
    "#Aca aplico activación luego de normalizar por eso en la capa de convolución puse NONE"
   ]
  },
  {
   "cell_type": "code",
   "execution_count": 20,
   "metadata": {},
   "outputs": [],
   "source": [
    "X = layers.MaxPooling2D(pool_size = (2, 2))(X)"
   ]
  },
  {
   "cell_type": "markdown",
   "metadata": {},
   "source": [
    "X = layers.Conv2D(filters = 16, kernel_size = (3, 3), activation = None, kernel_regularizer = keras.regularizers.l2(0.01))(X)\n",
    "\n",
    "X = layers.BatchNormalization()(X)\n",
    "\n",
    "X = layers.Activation(\"relu\")(X)\n"
   ]
  },
  {
   "cell_type": "code",
   "execution_count": 21,
   "metadata": {},
   "outputs": [],
   "source": [
    "Flatten = layers.Flatten()(X)"
   ]
  },
  {
   "cell_type": "code",
   "execution_count": 22,
   "metadata": {},
   "outputs": [],
   "source": [
    "X = layers.Dropout(0.7)(X)"
   ]
  },
  {
   "cell_type": "code",
   "execution_count": 23,
   "metadata": {},
   "outputs": [],
   "source": [
    "X = layers.Dense(32, activation = \"relu\")(Flatten)"
   ]
  },
  {
   "cell_type": "code",
   "execution_count": 24,
   "metadata": {},
   "outputs": [],
   "source": [
    "Salida = layers.Dense(units = 2, activation = 'sigmoid')(X)"
   ]
  },
  {
   "cell_type": "code",
   "execution_count": 25,
   "metadata": {},
   "outputs": [],
   "source": [
    "Red_Neuronal = keras.Model(inputs = Imagen_de_entrada, outputs = Salida)"
   ]
  },
  {
   "cell_type": "code",
   "execution_count": 26,
   "metadata": {},
   "outputs": [],
   "source": [
    "Red_Neuronal.compile(loss = 'categorical_crossentropy', optimizer = keras.optimizers.Adam(learning_rate = 1e-5), metrics = ['accuracy'])\n",
    "#Red_Neuronal.compile(loss = 'categorical_crossentropy', optimizer = 'Adam', metrics = ['accuracy'])"
   ]
  },
  {
   "cell_type": "code",
   "execution_count": 27,
   "metadata": {},
   "outputs": [
    {
     "name": "stdout",
     "output_type": "stream",
     "text": [
      "Epoch 1/28\n",
      "2830/2830 [==============================] - 17s 6ms/step - loss: 0.6012 - accuracy: 0.6968 - val_loss: 0.5834 - val_accuracy: 0.7088\n",
      "Epoch 2/28\n",
      "2830/2830 [==============================] - 17s 6ms/step - loss: 0.5690 - accuracy: 0.7282 - val_loss: 0.5654 - val_accuracy: 0.7349\n",
      "Epoch 3/28\n",
      "2830/2830 [==============================] - 25s 9ms/step - loss: 0.5462 - accuracy: 0.7491 - val_loss: 0.5356 - val_accuracy: 0.7560\n",
      "Epoch 4/28\n",
      "2830/2830 [==============================] - 28s 10ms/step - loss: 0.5219 - accuracy: 0.7706 - val_loss: 0.5087 - val_accuracy: 0.7783\n",
      "Epoch 5/28\n",
      "2830/2830 [==============================] - 26s 9ms/step - loss: 0.4994 - accuracy: 0.7900 - val_loss: 0.4861 - val_accuracy: 0.7974\n",
      "Epoch 6/28\n",
      "2830/2830 [==============================] - 28s 10ms/step - loss: 0.4813 - accuracy: 0.8018 - val_loss: 0.4886 - val_accuracy: 0.7819\n",
      "Epoch 7/28\n",
      "2830/2830 [==============================] - 33s 12ms/step - loss: 0.4692 - accuracy: 0.8080 - val_loss: 0.4634 - val_accuracy: 0.8086\n",
      "Epoch 8/28\n",
      "2830/2830 [==============================] - 34s 12ms/step - loss: 0.4575 - accuracy: 0.8139 - val_loss: 0.4645 - val_accuracy: 0.8047\n",
      "Epoch 9/28\n",
      "2830/2830 [==============================] - 27s 10ms/step - loss: 0.4503 - accuracy: 0.8169 - val_loss: 0.4449 - val_accuracy: 0.8199\n",
      "Epoch 10/28\n",
      "2830/2830 [==============================] - 27s 9ms/step - loss: 0.4445 - accuracy: 0.8197 - val_loss: 0.4395 - val_accuracy: 0.8252\n",
      "Epoch 11/28\n",
      "2830/2830 [==============================] - 28s 10ms/step - loss: 0.4387 - accuracy: 0.8232 - val_loss: 0.4337 - val_accuracy: 0.8269\n",
      "Epoch 12/28\n",
      "2830/2830 [==============================] - 28s 10ms/step - loss: 0.4348 - accuracy: 0.8238 - val_loss: 0.4484 - val_accuracy: 0.8197\n",
      "Epoch 13/28\n",
      "2830/2830 [==============================] - 28s 10ms/step - loss: 0.4316 - accuracy: 0.8263 - val_loss: 0.4351 - val_accuracy: 0.8124\n",
      "Epoch 14/28\n",
      "2830/2830 [==============================] - 28s 10ms/step - loss: 0.4285 - accuracy: 0.8273 - val_loss: 0.4302 - val_accuracy: 0.8279\n",
      "Epoch 15/28\n",
      "2830/2830 [==============================] - 29s 10ms/step - loss: 0.4276 - accuracy: 0.8271 - val_loss: 0.4233 - val_accuracy: 0.8290\n",
      "Epoch 16/28\n",
      "2830/2830 [==============================] - 32s 11ms/step - loss: 0.4232 - accuracy: 0.8291 - val_loss: 0.4250 - val_accuracy: 0.8252\n",
      "Epoch 17/28\n",
      "2830/2830 [==============================] - 30s 11ms/step - loss: 0.4225 - accuracy: 0.8289 - val_loss: 0.4197 - val_accuracy: 0.8268\n",
      "Epoch 18/28\n",
      "2830/2830 [==============================] - 31s 11ms/step - loss: 0.4206 - accuracy: 0.8285 - val_loss: 0.4338 - val_accuracy: 0.8267\n",
      "Epoch 19/28\n",
      "2830/2830 [==============================] - 35s 12ms/step - loss: 0.4174 - accuracy: 0.8306 - val_loss: 0.4178 - val_accuracy: 0.8292\n",
      "Epoch 20/28\n",
      "2830/2830 [==============================] - 35s 12ms/step - loss: 0.4166 - accuracy: 0.8300 - val_loss: 0.4220 - val_accuracy: 0.8134\n",
      "Epoch 21/28\n",
      "2830/2830 [==============================] - 34s 12ms/step - loss: 0.4129 - accuracy: 0.8304 - val_loss: 0.4140 - val_accuracy: 0.8289\n",
      "Epoch 22/28\n",
      "2830/2830 [==============================] - 34s 12ms/step - loss: 0.4116 - accuracy: 0.8316 - val_loss: 0.4221 - val_accuracy: 0.8293\n",
      "Epoch 23/28\n",
      "2830/2830 [==============================] - 34s 12ms/step - loss: 0.4109 - accuracy: 0.8316 - val_loss: 0.4234 - val_accuracy: 0.8311\n",
      "Epoch 24/28\n",
      "2830/2830 [==============================] - 34s 12ms/step - loss: 0.4090 - accuracy: 0.8327 - val_loss: 0.4112 - val_accuracy: 0.8312\n",
      "Epoch 25/28\n",
      "2830/2830 [==============================] - 35s 12ms/step - loss: 0.4075 - accuracy: 0.8338 - val_loss: 0.4206 - val_accuracy: 0.8307\n",
      "Epoch 26/28\n",
      "2830/2830 [==============================] - 40s 14ms/step - loss: 0.4069 - accuracy: 0.8324 - val_loss: 0.4109 - val_accuracy: 0.8297\n",
      "Epoch 27/28\n",
      "2830/2830 [==============================] - 37s 13ms/step - loss: 0.4060 - accuracy: 0.8331 - val_loss: 0.4439 - val_accuracy: 0.7861\n",
      "Epoch 28/28\n",
      "2830/2830 [==============================] - 33s 12ms/step - loss: 0.4044 - accuracy: 0.8335 - val_loss: 0.4107 - val_accuracy: 0.8329\n"
     ]
    }
   ],
   "source": [
    "Historia2 = Red_Neuronal.fit(x = X_train, y = Y_train, epochs = 28, batch_size = 32, validation_data = (X_test, Y_test))"
   ]
  },
  {
   "cell_type": "code",
   "execution_count": 28,
   "metadata": {},
   "outputs": [
    {
     "name": "stdout",
     "output_type": "stream",
     "text": [
      "Model: \"functional_1\"\n",
      "_________________________________________________________________\n",
      "Layer (type)                 Output Shape              Param #   \n",
      "=================================================================\n",
      "input_1 (InputLayer)         [(None, 15, 15, 1)]       0         \n",
      "_________________________________________________________________\n",
      "conv2d (Conv2D)              (None, 13, 13, 32)        320       \n",
      "_________________________________________________________________\n",
      "batch_normalization (BatchNo (None, 13, 13, 32)        128       \n",
      "_________________________________________________________________\n",
      "activation (Activation)      (None, 13, 13, 32)        0         \n",
      "_________________________________________________________________\n",
      "max_pooling2d (MaxPooling2D) (None, 6, 6, 32)          0         \n",
      "_________________________________________________________________\n",
      "flatten (Flatten)            (None, 1152)              0         \n",
      "_________________________________________________________________\n",
      "dense (Dense)                (None, 32)                36896     \n",
      "_________________________________________________________________\n",
      "dense_1 (Dense)              (None, 2)                 66        \n",
      "=================================================================\n",
      "Total params: 37,410\n",
      "Trainable params: 37,346\n",
      "Non-trainable params: 64\n",
      "_________________________________________________________________\n"
     ]
    }
   ],
   "source": [
    "Red_Neuronal.summary()"
   ]
  },
  {
   "cell_type": "code",
   "execution_count": 29,
   "metadata": {
    "scrolled": true
   },
   "outputs": [
    {
     "data": {
      "image/png": "[encoded data removed]",
      "text/plain": [
       "<Figure size 432x288 with 1 Axes>"
      ]
     },
     "metadata": {
      "needs_background": "light"
     },
     "output_type": "display_data"
    }
   ],
   "source": [
    "plt.plot(Historia2.history['accuracy'], label = 'Entrenamiento')\n",
    "plt.plot(Historia2.history['val_accuracy'], label = 'Prueba')\n",
    "plt.grid()\n",
    "plt.xlabel('Cantidad de Épocas')\n",
    "plt.ylabel('Accuracy')\n",
    "plt.legend()\n",
    "plt.show()"
   ]
  },
  {
   "cell_type": "code",
   "execution_count": 30,
   "metadata": {},
   "outputs": [
    {
     "data": {
      "image/png": "[encoded data removed]",
      "text/plain": [
       "<Figure size 432x288 with 1 Axes>"
      ]
     },
     "metadata": {
      "needs_background": "light"
     },
     "output_type": "display_data"
    }
   ],
   "source": [
    "plt.plot(Historia2.history['loss'], label = 'Entrenamiento')\n",
    "plt.plot(Historia2.history['val_loss'], label = 'Prueba')\n",
    "plt.grid()\n",
    "plt.xlabel('Cantidad de Épocas')\n",
    "plt.ylabel('Loss')\n",
    "plt.legend()\n",
    "plt.show()"
   ]
  },
  {
   "cell_type": "markdown",
   "metadata": {},
   "source": [
    "# "
   ]
  }
 ],
 "metadata": {
  "kernelspec": {
   "display_name": "Python 3",
   "language": "python",
   "name": "python3"
  },
  "language_info": {
   "codemirror_mode": {
    "name": "ipython",
    "version": 3
   },
   "file_extension": ".py",
   "mimetype": "text/x-python",
   "name": "python",
   "nbconvert_exporter": "python",
   "pygments_lexer": "ipython3",
   "version": "3.8.5"
  }
 },
 "nbformat": 4,
 "nbformat_minor": 4
}
